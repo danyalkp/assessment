{
 "cells": [
  {
   "cell_type": "code",
   "execution_count": 1,
   "id": "6d0c2f51",
   "metadata": {},
   "outputs": [
    {
     "name": "stdout",
     "output_type": "stream",
     "text": [
      "_ Look like the first question , first step showing our data set and analyze them .\n",
      "\n",
      "_ with the histograms analyze our columns  date, soilmoisture , average_temp , min_temp , max_temp , precipitation , working_days , HA_Harvested , FFB_yield \n",
      "\n",
      "_ correlation table , showing correlations between the columns.\n"
     ]
    }
   ],
   "source": [
    "print(\"_ Look like the first question , first step showing our data set and analyze them .\")\n",
    "print()\n",
    "print(\"_ with the histograms analyze our columns  date, soilmoisture , average_temp , min_temp , max_temp , precipitation , working_days , HA_Harvested , FFB_yield \")\n",
    "print()\n",
    "print(\"_ correlation table , showing correlations between the columns.\")"
   ]
  },
  {
   "cell_type": "code",
   "execution_count": 2,
   "id": "a0f68e9e",
   "metadata": {},
   "outputs": [
    {
     "name": "stdout",
     "output_type": "stream",
     "text": [
      "\n",
      "    this is 11 first lines in our csv file\n"
     ]
    },
    {
     "data": {
      "text/html": [
       "<div>\n",
       "<style scoped>\n",
       "    .dataframe tbody tr th:only-of-type {\n",
       "        vertical-align: middle;\n",
       "    }\n",
       "\n",
       "    .dataframe tbody tr th {\n",
       "        vertical-align: top;\n",
       "    }\n",
       "\n",
       "    .dataframe thead th {\n",
       "        text-align: right;\n",
       "    }\n",
       "</style>\n",
       "<table border=\"1\" class=\"dataframe\">\n",
       "  <thead>\n",
       "    <tr style=\"text-align: right;\">\n",
       "      <th></th>\n",
       "      <th>Date</th>\n",
       "      <th>SoilMoisture</th>\n",
       "      <th>Average_Temp</th>\n",
       "      <th>Min_Temp</th>\n",
       "      <th>Max_Temp</th>\n",
       "      <th>Precipitation</th>\n",
       "      <th>Working_days</th>\n",
       "      <th>HA_Harvested</th>\n",
       "      <th>FFB_Yield</th>\n",
       "    </tr>\n",
       "  </thead>\n",
       "  <tbody>\n",
       "    <tr>\n",
       "      <th>0</th>\n",
       "      <td>01.01.2008</td>\n",
       "      <td>616.4</td>\n",
       "      <td>25.306452</td>\n",
       "      <td>21.3</td>\n",
       "      <td>32.2</td>\n",
       "      <td>184.4</td>\n",
       "      <td>25</td>\n",
       "      <td>777778.3951</td>\n",
       "      <td>1.62</td>\n",
       "    </tr>\n",
       "    <tr>\n",
       "      <th>1</th>\n",
       "      <td>01.02.2008</td>\n",
       "      <td>568.9</td>\n",
       "      <td>26.165517</td>\n",
       "      <td>20.9</td>\n",
       "      <td>35.1</td>\n",
       "      <td>140.2</td>\n",
       "      <td>23</td>\n",
       "      <td>767988.2759</td>\n",
       "      <td>1.45</td>\n",
       "    </tr>\n",
       "    <tr>\n",
       "      <th>2</th>\n",
       "      <td>01.03.2008</td>\n",
       "      <td>577.6</td>\n",
       "      <td>25.448387</td>\n",
       "      <td>21.3</td>\n",
       "      <td>32.9</td>\n",
       "      <td>280.4</td>\n",
       "      <td>25</td>\n",
       "      <td>783951.9231</td>\n",
       "      <td>1.56</td>\n",
       "    </tr>\n",
       "    <tr>\n",
       "      <th>3</th>\n",
       "      <td>01.04.2008</td>\n",
       "      <td>581.1</td>\n",
       "      <td>26.903333</td>\n",
       "      <td>20.6</td>\n",
       "      <td>34.8</td>\n",
       "      <td>173.3</td>\n",
       "      <td>25</td>\n",
       "      <td>788987.0504</td>\n",
       "      <td>1.39</td>\n",
       "    </tr>\n",
       "    <tr>\n",
       "      <th>4</th>\n",
       "      <td>01.05.2008</td>\n",
       "      <td>545.4</td>\n",
       "      <td>27.241935</td>\n",
       "      <td>20.9</td>\n",
       "      <td>35.0</td>\n",
       "      <td>140.6</td>\n",
       "      <td>25</td>\n",
       "      <td>813659.7222</td>\n",
       "      <td>1.44</td>\n",
       "    </tr>\n",
       "    <tr>\n",
       "      <th>5</th>\n",
       "      <td>01.06.2008</td>\n",
       "      <td>532.5</td>\n",
       "      <td>27.116667</td>\n",
       "      <td>21.4</td>\n",
       "      <td>35.5</td>\n",
       "      <td>182.3</td>\n",
       "      <td>24</td>\n",
       "      <td>829817.5676</td>\n",
       "      <td>1.48</td>\n",
       "    </tr>\n",
       "    <tr>\n",
       "      <th>6</th>\n",
       "      <td>01.07.2008</td>\n",
       "      <td>544.7</td>\n",
       "      <td>27.035484</td>\n",
       "      <td>21.2</td>\n",
       "      <td>33.9</td>\n",
       "      <td>201.6</td>\n",
       "      <td>26</td>\n",
       "      <td>814475.3012</td>\n",
       "      <td>1.66</td>\n",
       "    </tr>\n",
       "    <tr>\n",
       "      <th>7</th>\n",
       "      <td>01.08.2008</td>\n",
       "      <td>569.9</td>\n",
       "      <td>27.200000</td>\n",
       "      <td>21.7</td>\n",
       "      <td>34.5</td>\n",
       "      <td>283.2</td>\n",
       "      <td>26</td>\n",
       "      <td>782279.5322</td>\n",
       "      <td>1.71</td>\n",
       "    </tr>\n",
       "    <tr>\n",
       "      <th>8</th>\n",
       "      <td>01.09.2008</td>\n",
       "      <td>571.7</td>\n",
       "      <td>27.556667</td>\n",
       "      <td>21.2</td>\n",
       "      <td>35.1</td>\n",
       "      <td>176.3</td>\n",
       "      <td>25</td>\n",
       "      <td>795237.6543</td>\n",
       "      <td>1.62</td>\n",
       "    </tr>\n",
       "    <tr>\n",
       "      <th>9</th>\n",
       "      <td>01.10.2008</td>\n",
       "      <td>565.3</td>\n",
       "      <td>27.358065</td>\n",
       "      <td>22.1</td>\n",
       "      <td>33.9</td>\n",
       "      <td>217.5</td>\n",
       "      <td>24</td>\n",
       "      <td>765090.8602</td>\n",
       "      <td>1.86</td>\n",
       "    </tr>\n",
       "    <tr>\n",
       "      <th>10</th>\n",
       "      <td>01.11.2008</td>\n",
       "      <td>586.8</td>\n",
       "      <td>26.716667</td>\n",
       "      <td>22.3</td>\n",
       "      <td>34.7</td>\n",
       "      <td>272.6</td>\n",
       "      <td>25</td>\n",
       "      <td>761875.6614</td>\n",
       "      <td>1.89</td>\n",
       "    </tr>\n",
       "  </tbody>\n",
       "</table>\n",
       "</div>"
      ],
      "text/plain": [
       "          Date  SoilMoisture  Average_Temp  Min_Temp  Max_Temp  Precipitation  \\\n",
       "0   01.01.2008         616.4     25.306452      21.3      32.2          184.4   \n",
       "1   01.02.2008         568.9     26.165517      20.9      35.1          140.2   \n",
       "2   01.03.2008         577.6     25.448387      21.3      32.9          280.4   \n",
       "3   01.04.2008         581.1     26.903333      20.6      34.8          173.3   \n",
       "4   01.05.2008         545.4     27.241935      20.9      35.0          140.6   \n",
       "5   01.06.2008         532.5     27.116667      21.4      35.5          182.3   \n",
       "6   01.07.2008         544.7     27.035484      21.2      33.9          201.6   \n",
       "7   01.08.2008         569.9     27.200000      21.7      34.5          283.2   \n",
       "8   01.09.2008         571.7     27.556667      21.2      35.1          176.3   \n",
       "9   01.10.2008         565.3     27.358065      22.1      33.9          217.5   \n",
       "10  01.11.2008         586.8     26.716667      22.3      34.7          272.6   \n",
       "\n",
       "    Working_days  HA_Harvested  FFB_Yield  \n",
       "0             25   777778.3951       1.62  \n",
       "1             23   767988.2759       1.45  \n",
       "2             25   783951.9231       1.56  \n",
       "3             25   788987.0504       1.39  \n",
       "4             25   813659.7222       1.44  \n",
       "5             24   829817.5676       1.48  \n",
       "6             26   814475.3012       1.66  \n",
       "7             26   782279.5322       1.71  \n",
       "8             25   795237.6543       1.62  \n",
       "9             24   765090.8602       1.86  \n",
       "10            25   761875.6614       1.89  "
      ]
     },
     "execution_count": 2,
     "metadata": {},
     "output_type": "execute_result"
    }
   ],
   "source": [
    "import pandas as pd\n",
    "import numpy as np\n",
    "import matplotlib.pyplot as plt\n",
    "import seaborn as sb\n",
    "from scipy import stats\n",
    "from scipy.stats import skew,kurtosis, probplot\n",
    "from statsmodels.formula.api import ols  \n",
    "import statsmodels.api as sm  \n",
    "import probscale\n",
    "\n",
    "\n",
    "print(\"\")\n",
    "print(\"    this is 11 first lines in our csv file\")\n",
    "palm = pd.read_csv('palm_ffb.csv')\n",
    "#palm.head()\n",
    "palm[:11]\n"
   ]
  },
  {
   "cell_type": "code",
   "execution_count": 3,
   "id": "09caa78b",
   "metadata": {},
   "outputs": [
    {
     "data": {
      "text/plain": [
       "(130, 9)"
      ]
     },
     "execution_count": 3,
     "metadata": {},
     "output_type": "execute_result"
    }
   ],
   "source": [
    "palm.shape"
   ]
  },
  {
   "cell_type": "code",
   "execution_count": 4,
   "id": "7df80863",
   "metadata": {},
   "outputs": [
    {
     "data": {
      "text/plain": [
       "Date             130\n",
       "SoilMoisture     127\n",
       "Average_Temp     128\n",
       "Min_Temp          31\n",
       "Max_Temp          46\n",
       "Precipitation    126\n",
       "Working_days       7\n",
       "HA_Harvested     130\n",
       "FFB_Yield         76\n",
       "dtype: int64"
      ]
     },
     "execution_count": 4,
     "metadata": {},
     "output_type": "execute_result"
    }
   ],
   "source": [
    "palm.nunique()"
   ]
  },
  {
   "cell_type": "code",
   "execution_count": 5,
   "id": "beebb23f",
   "metadata": {},
   "outputs": [
    {
     "name": "stdout",
     "output_type": "stream",
     "text": [
      "<class 'pandas.core.frame.DataFrame'>\n",
      "RangeIndex: 130 entries, 0 to 129\n",
      "Data columns (total 9 columns):\n",
      " #   Column         Non-Null Count  Dtype  \n",
      "---  ------         --------------  -----  \n",
      " 0   Date           130 non-null    object \n",
      " 1   SoilMoisture   130 non-null    float64\n",
      " 2   Average_Temp   130 non-null    float64\n",
      " 3   Min_Temp       130 non-null    float64\n",
      " 4   Max_Temp       130 non-null    float64\n",
      " 5   Precipitation  130 non-null    float64\n",
      " 6   Working_days   130 non-null    int64  \n",
      " 7   HA_Harvested   130 non-null    float64\n",
      " 8   FFB_Yield      130 non-null    float64\n",
      "dtypes: float64(7), int64(1), object(1)\n",
      "memory usage: 9.3+ KB\n"
     ]
    }
   ],
   "source": [
    "palm.info()"
   ]
  },
  {
   "cell_type": "code",
   "execution_count": 6,
   "id": "9c6482a3",
   "metadata": {},
   "outputs": [
    {
     "data": {
      "text/plain": [
       "SoilMoisture     127\n",
       "Average_Temp     128\n",
       "Min_Temp          31\n",
       "Max_Temp          46\n",
       "Precipitation    126\n",
       "Working_days       7\n",
       "HA_Harvested     130\n",
       "FFB_Yield         76\n",
       "dtype: int64"
      ]
     },
     "execution_count": 6,
     "metadata": {},
     "output_type": "execute_result"
    }
   ],
   "source": [
    "palm = palm.drop([\"Date\"], axis = 1)\n",
    "palm.nunique()"
   ]
  },
  {
   "cell_type": "code",
   "execution_count": 7,
   "id": "bb2c67b4",
   "metadata": {},
   "outputs": [
    {
     "data": {
      "text/html": [
       "<div>\n",
       "<style scoped>\n",
       "    .dataframe tbody tr th:only-of-type {\n",
       "        vertical-align: middle;\n",
       "    }\n",
       "\n",
       "    .dataframe tbody tr th {\n",
       "        vertical-align: top;\n",
       "    }\n",
       "\n",
       "    .dataframe thead th {\n",
       "        text-align: right;\n",
       "    }\n",
       "</style>\n",
       "<table border=\"1\" class=\"dataframe\">\n",
       "  <thead>\n",
       "    <tr style=\"text-align: right;\">\n",
       "      <th></th>\n",
       "      <th>SoilMoisture</th>\n",
       "      <th>Average_Temp</th>\n",
       "      <th>Min_Temp</th>\n",
       "      <th>Max_Temp</th>\n",
       "      <th>Precipitation</th>\n",
       "      <th>Working_days</th>\n",
       "      <th>HA_Harvested</th>\n",
       "      <th>FFB_Yield</th>\n",
       "    </tr>\n",
       "  </thead>\n",
       "  <tbody>\n",
       "    <tr>\n",
       "      <th>count</th>\n",
       "      <td>130.000000</td>\n",
       "      <td>130.000000</td>\n",
       "      <td>130.000000</td>\n",
       "      <td>130.000000</td>\n",
       "      <td>130.000000</td>\n",
       "      <td>130.000000</td>\n",
       "      <td>130.000000</td>\n",
       "      <td>130.000000</td>\n",
       "    </tr>\n",
       "    <tr>\n",
       "      <th>mean</th>\n",
       "      <td>527.646923</td>\n",
       "      <td>26.849918</td>\n",
       "      <td>21.379231</td>\n",
       "      <td>33.851538</td>\n",
       "      <td>188.980769</td>\n",
       "      <td>24.753846</td>\n",
       "      <td>793404.491565</td>\n",
       "      <td>1.602231</td>\n",
       "    </tr>\n",
       "    <tr>\n",
       "      <th>std</th>\n",
       "      <td>57.367844</td>\n",
       "      <td>0.651413</td>\n",
       "      <td>0.688971</td>\n",
       "      <td>1.079638</td>\n",
       "      <td>80.237210</td>\n",
       "      <td>1.239289</td>\n",
       "      <td>34440.893854</td>\n",
       "      <td>0.281751</td>\n",
       "    </tr>\n",
       "    <tr>\n",
       "      <th>min</th>\n",
       "      <td>380.700000</td>\n",
       "      <td>25.158065</td>\n",
       "      <td>18.900000</td>\n",
       "      <td>31.100000</td>\n",
       "      <td>2.000000</td>\n",
       "      <td>21.000000</td>\n",
       "      <td>683431.944400</td>\n",
       "      <td>1.080000</td>\n",
       "    </tr>\n",
       "    <tr>\n",
       "      <th>25%</th>\n",
       "      <td>488.625000</td>\n",
       "      <td>26.442285</td>\n",
       "      <td>21.000000</td>\n",
       "      <td>33.100000</td>\n",
       "      <td>140.300000</td>\n",
       "      <td>24.000000</td>\n",
       "      <td>768966.949100</td>\n",
       "      <td>1.390000</td>\n",
       "    </tr>\n",
       "    <tr>\n",
       "      <th>50%</th>\n",
       "      <td>538.300000</td>\n",
       "      <td>26.930645</td>\n",
       "      <td>21.500000</td>\n",
       "      <td>33.900000</td>\n",
       "      <td>182.150000</td>\n",
       "      <td>25.000000</td>\n",
       "      <td>790036.158050</td>\n",
       "      <td>1.585000</td>\n",
       "    </tr>\n",
       "    <tr>\n",
       "      <th>75%</th>\n",
       "      <td>571.025000</td>\n",
       "      <td>27.270726</td>\n",
       "      <td>21.800000</td>\n",
       "      <td>34.600000</td>\n",
       "      <td>226.100000</td>\n",
       "      <td>26.000000</td>\n",
       "      <td>821989.235250</td>\n",
       "      <td>1.807500</td>\n",
       "    </tr>\n",
       "    <tr>\n",
       "      <th>max</th>\n",
       "      <td>647.300000</td>\n",
       "      <td>28.580000</td>\n",
       "      <td>22.600000</td>\n",
       "      <td>36.000000</td>\n",
       "      <td>496.100000</td>\n",
       "      <td>27.000000</td>\n",
       "      <td>882254.225400</td>\n",
       "      <td>2.270000</td>\n",
       "    </tr>\n",
       "  </tbody>\n",
       "</table>\n",
       "</div>"
      ],
      "text/plain": [
       "       SoilMoisture  Average_Temp    Min_Temp    Max_Temp  Precipitation  \\\n",
       "count    130.000000    130.000000  130.000000  130.000000     130.000000   \n",
       "mean     527.646923     26.849918   21.379231   33.851538     188.980769   \n",
       "std       57.367844      0.651413    0.688971    1.079638      80.237210   \n",
       "min      380.700000     25.158065   18.900000   31.100000       2.000000   \n",
       "25%      488.625000     26.442285   21.000000   33.100000     140.300000   \n",
       "50%      538.300000     26.930645   21.500000   33.900000     182.150000   \n",
       "75%      571.025000     27.270726   21.800000   34.600000     226.100000   \n",
       "max      647.300000     28.580000   22.600000   36.000000     496.100000   \n",
       "\n",
       "       Working_days   HA_Harvested   FFB_Yield  \n",
       "count    130.000000     130.000000  130.000000  \n",
       "mean      24.753846  793404.491565    1.602231  \n",
       "std        1.239289   34440.893854    0.281751  \n",
       "min       21.000000  683431.944400    1.080000  \n",
       "25%       24.000000  768966.949100    1.390000  \n",
       "50%       25.000000  790036.158050    1.585000  \n",
       "75%       26.000000  821989.235250    1.807500  \n",
       "max       27.000000  882254.225400    2.270000  "
      ]
     },
     "execution_count": 7,
     "metadata": {},
     "output_type": "execute_result"
    }
   ],
   "source": [
    "palm.describe()"
   ]
  },
  {
   "cell_type": "code",
   "execution_count": 8,
   "id": "89b38e54",
   "metadata": {},
   "outputs": [
    {
     "data": {
      "text/plain": [
       "array([-0.3897717 , -0.33666356, -1.10837727, -0.21313881,  0.52013553,\n",
       "       -0.65316511, -0.06369858,  0.18644545])"
      ]
     },
     "execution_count": 8,
     "metadata": {},
     "output_type": "execute_result"
    }
   ],
   "source": [
    "skew(palm, axis = 0)"
   ]
  },
  {
   "cell_type": "code",
   "execution_count": 9,
   "id": "e7db0ead",
   "metadata": {},
   "outputs": [
    {
     "data": {
      "image/png": "[encoded data removed]",
      "text/plain": [
       "<Figure size 360x288 with 1 Axes>"
      ]
     },
     "metadata": {
      "needs_background": "light"
     },
     "output_type": "display_data"
    }
   ],
   "source": [
    "fig, ax = plt.subplots(figsize=(5, 4))\n",
    "ax = sb.histplot(palm['SoilMoisture'], kde=True, stat=\"density\", color=\"red\")\n",
    "plt.show()"
   ]
  },
  {
   "cell_type": "code",
   "execution_count": 10,
   "id": "95db1f42",
   "metadata": {},
   "outputs": [
    {
     "data": {
      "image/png": "[encoded data removed]",
      "text/plain": [
       "<Figure size 360x288 with 1 Axes>"
      ]
     },
     "metadata": {
      "needs_background": "light"
     },
     "output_type": "display_data"
    }
   ],
   "source": [
    "fig, ax = plt.subplots(figsize=(5, 4))\n",
    "ax = sb.histplot(palm['Average_Temp'], kde=True, stat=\"density\", color=\"red\")\n",
    "plt.show()"
   ]
  },
  {
   "cell_type": "code",
   "execution_count": 11,
   "id": "f21590a3",
   "metadata": {},
   "outputs": [
    {
     "data": {
      "image/png": "[encoded data removed]",
      "text/plain": [
       "<Figure size 360x288 with 1 Axes>"
      ]
     },
     "metadata": {
      "needs_background": "light"
     },
     "output_type": "display_data"
    }
   ],
   "source": [
    "fig, ax = plt.subplots(figsize=(5, 4))\n",
    "ax = sb.histplot(palm['Min_Temp'], kde=True, stat=\"density\", color=\"red\")\n",
    "plt.show()"
   ]
  },
  {
   "cell_type": "code",
   "execution_count": 12,
   "id": "9da1aa34",
   "metadata": {},
   "outputs": [
    {
     "data": {
      "image/png": "[encoded data removed]",
      "text/plain": [
       "<Figure size 360x288 with 1 Axes>"
      ]
     },
     "metadata": {
      "needs_background": "light"
     },
     "output_type": "display_data"
    }
   ],
   "source": [
    "fig, ax = plt.subplots(figsize=(5, 4))\n",
    "ax = sb.histplot(palm['Max_Temp'], kde=True, stat=\"density\", color=\"red\")\n",
    "plt.show()"
   ]
  },
  {
   "cell_type": "code",
   "execution_count": 13,
   "id": "c6eff6db",
   "metadata": {},
   "outputs": [
    {
     "data": {
      "image/png": "[encoded data removed]",
      "text/plain": [
       "<Figure size 360x288 with 1 Axes>"
      ]
     },
     "metadata": {
      "needs_background": "light"
     },
     "output_type": "display_data"
    }
   ],
   "source": [
    "fig, ax = plt.subplots(figsize=(5, 4))\n",
    "ax = sb.histplot(palm['Precipitation'], kde=True, stat=\"density\", color=\"red\")\n",
    "plt.show()"
   ]
  },
  {
   "cell_type": "code",
   "execution_count": 14,
   "id": "aed6d71a",
   "metadata": {},
   "outputs": [
    {
     "data": {
      "image/png": "[encoded data removed]",
      "text/plain": [
       "<Figure size 360x288 with 1 Axes>"
      ]
     },
     "metadata": {
      "needs_background": "light"
     },
     "output_type": "display_data"
    }
   ],
   "source": [
    "fig, ax = plt.subplots(figsize=(5, 4))\n",
    "ax = sb.histplot(palm['Working_days'], kde=True, stat=\"density\", color=\"red\")\n",
    "plt.show()"
   ]
  },
  {
   "cell_type": "code",
   "execution_count": 15,
   "id": "a9cf984a",
   "metadata": {},
   "outputs": [
    {
     "data": {
      "image/png": "[encoded data removed]",
      "text/plain": [
       "<Figure size 360x288 with 1 Axes>"
      ]
     },
     "metadata": {
      "needs_background": "light"
     },
     "output_type": "display_data"
    }
   ],
   "source": [
    "fig, ax = plt.subplots(figsize=(5, 4))\n",
    "ax = sb.histplot(palm['HA_Harvested'], kde=True, stat=\"density\", color=\"red\")\n",
    "plt.show()"
   ]
  },
  {
   "cell_type": "code",
   "execution_count": 16,
   "id": "3fdf90b3",
   "metadata": {},
   "outputs": [
    {
     "name": "stdout",
     "output_type": "stream",
     "text": [
      "_ in ( working days , Ha_harvested  ) histograms are not normal distributed\n",
      "\n"
     ]
    }
   ],
   "source": [
    "print(\"_ in ( working days , Ha_harvested  ) histograms are not normal distributed\")\n",
    "print()"
   ]
  },
  {
   "cell_type": "code",
   "execution_count": 17,
   "id": "99f5b16e",
   "metadata": {},
   "outputs": [],
   "source": [
    "palm = palm.drop([\"Working_days\", \"HA_Harvested\"], axis = 1)"
   ]
  },
  {
   "cell_type": "code",
   "execution_count": 18,
   "id": "010fe523",
   "metadata": {},
   "outputs": [
    {
     "name": "stdout",
     "output_type": "stream",
     "text": [
      "ANOVA Table\n",
      "                 sum_sq     df          F    PR(>F)\n",
      "SoilMoisture   0.266803    1.0   3.687321  0.057124\n",
      "Average_Temp   0.000467    1.0   0.006460  0.936072\n",
      "Min_Temp       0.016253    1.0   0.224623  0.636373\n",
      "Max_Temp       0.000037    1.0   0.000511  0.982008\n",
      "Precipitation  1.102094    1.0  15.231373  0.000155\n",
      "Residual       8.972251  124.0        NaN       NaN\n"
     ]
    }
   ],
   "source": [
    "model = ols('FFB_Yield ~ SoilMoisture + Average_Temp + Min_Temp + Max_Temp + Precipitation', data = palm).fit()\n",
    "sm.stats.anova_lm(model, typ=2) \n",
    "aovtable = sm.stats.anova_lm(model, typ = 2)    \n",
    "print('ANOVA Table')  \n",
    "print(aovtable)"
   ]
  },
  {
   "cell_type": "code",
   "execution_count": 19,
   "id": "d981a040",
   "metadata": {},
   "outputs": [
    {
     "data": {
      "image/png": "[encoded data removed]",
      "text/plain": [
       "<Figure size 720x720 with 2 Axes>"
      ]
     },
     "metadata": {
      "needs_background": "light"
     },
     "output_type": "display_data"
    }
   ],
   "source": [
    "plt.figure(figsize = (10, 10))\n",
    "ax = sb.heatmap(\n",
    "    palm.corr(),\n",
    "    vmin=-1,\n",
    "    vmax=1,\n",
    "    square=True,\n",
    "    linewidth=0.5,\n",
    "    cmap=\"coolwarm_r\",\n",
    "    annot=True,\n",
    ")\n",
    "ax.set_yticklabels(ax.get_yticklabels(), rotation=0)\n",
    "ax.set(title=\"Correlation matrix (Pearson's r)\")\n",
    "\n",
    "plt.tight_layout()\n",
    "plt.show()"
   ]
  },
  {
   "cell_type": "code",
   "execution_count": 20,
   "id": "d5e91107",
   "metadata": {},
   "outputs": [
    {
     "name": "stdout",
     "output_type": "stream",
     "text": [
      "_ The correlation table shows that precipitation has the greatest effect on FFB_yield\n"
     ]
    }
   ],
   "source": [
    "print(\"_ The correlation table shows that precipitation has the greatest effect on FFB_yield\")"
   ]
  }
 ],
 "metadata": {
  "kernelspec": {
   "display_name": "Python 3 (ipykernel)",
   "language": "python",
   "name": "python3"
  },
  "language_info": {
   "codemirror_mode": {
    "name": "ipython",
    "version": 3
   },
   "file_extension": ".py",
   "mimetype": "text/x-python",
   "name": "python",
   "nbconvert_exporter": "python",
   "pygments_lexer": "ipython3",
   "version": "3.9.12"
  }
 },
 "nbformat": 4,
 "nbformat_minor": 5
}
