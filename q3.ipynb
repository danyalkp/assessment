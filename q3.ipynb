{
 "cells": [
  {
   "cell_type": "code",
   "execution_count": 1,
   "id": "40ad3abe",
   "metadata": {},
   "outputs": [
    {
     "name": "stdout",
     "output_type": "stream",
     "text": [
      "for analyze our data/paragraph and answering the Questions :\n"
     ]
    }
   ],
   "source": [
    "print(\"for analyze our data/paragraph and answering the Questions :\")"
   ]
  },
  {
   "cell_type": "code",
   "execution_count": 2,
   "id": "42140ba1",
   "metadata": {},
   "outputs": [],
   "source": [
    "paragraph = \"\"\"As a term, data analytics predominantly refers to an assortment of applications, from basic business \n",
    "intelligence (BI), reporting and online analytical processing (OLAP) to various forms of advanced \n",
    "analytics. In that sense, it's similar in nature to business analytics, another umbrella term for \n",
    "approaches to analyzing data -- with the difference that the latter is oriented to business uses, while \n",
    "data analytics has a broader focus. The expansive view of the term isn't universal, though: In some \n",
    "cases, people use data analytics specifically to mean advanced analytics, treating BI as a separate \n",
    "category. Data analytics initiatives can help businesses increase revenues, improve operational \n",
    "efficiency, optimize marketing campaigns and customer service efforts, respond more quickly to \n",
    "emerging market trends and gain a competitive edge over rivals -- all with the ultimate goal of \n",
    "boosting business performance. Depending on the particular application, the data that's analyzed \n",
    "can consist of either historical records or new information that has been processed for real-time \n",
    "analytics uses. In addition, it can come from a mix of internal systems and external data sources. At \n",
    "a high level, data analytics methodologies include exploratory data analysis (EDA), which aims to find \n",
    "patterns and relationships in data, and confirmatory data analysis (CDA), which applies statistical \n",
    "techniques to determine whether hypotheses about a data set are true or false. EDA is often \n",
    "compared to detective work, while CDA is akin to the work of a judge or jury during a court trial -- a \n",
    "distinction first drawn by statistician John W. Tukey in his 1977 book Exploratory Data Analysis. Data \n",
    "analytics can also be separated into quantitative data analysis and qualitative data analysis. The \n",
    "former involves analysis of numerical data with quantifiable variables that can be compared or \n",
    "measured statistically. The qualitative approach is more interpretive -- it focuses on understanding \n",
    "the content of non-numerical data like text, images, audio and video, including common phrases, \n",
    "themes and points of view.\"\"\"\n",
    "\n",
    "lines = paragraph.splitlines()\n",
    "nlines = len(lines)"
   ]
  },
  {
   "cell_type": "code",
   "execution_count": 3,
   "id": "164706b2",
   "metadata": {},
   "outputs": [],
   "source": [
    "import re\n",
    "from collections import Counter\n",
    "\n",
    "def tokenize(string):\n",
    "    return re.compile('\\w+').findall(string)\n",
    "\n",
    "def word_freq(string): \n",
    "    text = tokenize(string.lower())\n",
    "    c = Counter(text)           \n",
    "    d = Counter(''.join(text))  \n",
    "    return (dict(c))    \n",
    "\n",
    "def return_word_freq(string): \n",
    "    text = tokenize(string.lower())\n",
    "    c = Counter(text)          \n",
    "    d = Counter(''.join(text))  \n",
    "    return (dict(c), dict(d))    \n",
    "\n",
    "words = word_freq(paragraph) \n",
    "words_, letters = return_word_freq(paragraph)\n",
    "\n",
    "sumWords = sum(words.values())       \n",
    "sumLetters = sum(letters.values())"
   ]
  },
  {
   "cell_type": "code",
   "execution_count": 4,
   "id": "ba4188fe",
   "metadata": {},
   "outputs": [
    {
     "name": "stdout",
     "output_type": "stream",
     "text": [
      "Question 3 _ part a\n",
      "_____________________________________________________________\n",
      "0.8181818181818182\n",
      "\n",
      "The probability of data word in each line is 81.8%\n"
     ]
    }
   ],
   "source": [
    "print(\"Question 3 _ part a\")\n",
    "print(\"_____________________________________________________________\")\n",
    "\n",
    "data_count = words['data']\n",
    "data_probablility = data_count/nlines\n",
    "data_probablility\n",
    "print(data_probablility)\n",
    "\n",
    "print(\"\")\n",
    "print(\"The probability of data word in each line is 81.8%\")"
   ]
  },
  {
   "cell_type": "code",
   "execution_count": 5,
   "id": "14b7e1c3",
   "metadata": {},
   "outputs": [
    {
     "name": "stdout",
     "output_type": "stream",
     "text": [
      "\n",
      "Question 3 _ part b\n",
      "_________________________________________________________________\n"
     ]
    },
    {
     "data": {
      "image/png": "[encoded data removed]",
      "text/plain": [
       "<Figure size 402.375x360 with 1 Axes>"
      ]
     },
     "metadata": {
      "needs_background": "light"
     },
     "output_type": "display_data"
    }
   ],
   "source": [
    "print(\"\")\n",
    "print(\"Question 3 _ part b\")\n",
    "\n",
    "import pandas as pd\n",
    "import seaborn as sns\n",
    "\n",
    "line_unique_counts = []\n",
    "for line in lines:\n",
    "    line_unique_counts.append(len(word_freq(line)))\n",
    "unique_words = pd.DataFrame(line_unique_counts)\n",
    "\n",
    "print(\"_________________________________________________________________\")\n",
    "\n",
    "sns.displot(unique_words, kde=True, rug=True);"
   ]
  },
  {
   "cell_type": "code",
   "execution_count": 6,
   "id": "3ae84017",
   "metadata": {},
   "outputs": [
    {
     "name": "stdout",
     "output_type": "stream",
     "text": [
      "Question 3 _ part c\n",
      "_____________________________________________________________\n",
      "\n",
      "0.4\n",
      "\n",
      "the probability of the word “analytics” occurring after the word “data” is 0.4\n"
     ]
    }
   ],
   "source": [
    "print(\"Question 3 _ part c\")\n",
    "print(\"_____________________________________________________________\")\n",
    "print(\"\")\n",
    "\n",
    "import re\n",
    "from collections import Counter\n",
    "\n",
    "bigram = re.findall('\\w+', paragraph)\n",
    "bigram_counts = Counter(zip(bigram,bigram[1:]))\n",
    "\n",
    "analytics_count = words['analytics']\n",
    "data_analytics_count = bigram_counts[(\"data\", \"analytics\")]\n",
    "print(data_analytics_count/analytics_count)\n",
    "\n",
    "print(\"\")\n",
    "print(\"the probability of the word “analytics” occurring after the word “data” is 0.4\")\n",
    " "
   ]
  }
 ],
 "metadata": {
  "kernelspec": {
   "display_name": "Python 3 (ipykernel)",
   "language": "python",
   "name": "python3"
  },
  "language_info": {
   "codemirror_mode": {
    "name": "ipython",
    "version": 3
   },
   "file_extension": ".py",
   "mimetype": "text/x-python",
   "name": "python",
   "nbconvert_exporter": "python",
   "pygments_lexer": "ipython3",
   "version": "3.9.12"
  }
 },
 "nbformat": 4,
 "nbformat_minor": 5
}
